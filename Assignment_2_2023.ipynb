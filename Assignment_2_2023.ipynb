{
 "cells": [
  {
   "cell_type": "markdown",
   "metadata": {},
   "source": [
    "<h1 align='center'> COMP2420/COMP6420 - Introduction to Data Management,<br/> Analysis and Security</h1>\n",
    "\n",
    "<h1 align='center'> Assignment - 2 (2023)</h1>\n",
    "\n",
    "-----\n",
    "\n",
    "|**Maximum Marks**         |**100 marks**\n",
    "|--------------------------|--------\n",
    "|  **Weight**              |  **15% of the Total Course Grade**\n",
    "|  **Submission deadline** |  **11.59M, Friday, May 19th**\n",
    "|  **Submission mode**     |  **Electronic, Using GitLab**\n",
    "|  **Penalty**             |  **100% after the deadline**\n",
    "\n",
    "\n",
    "## Learning Outcomes\n",
    "The following learning outcomes apply to this assignment:\n",
    "- **LO1** - Demonstrate a conceptual understanding of database systems and architecture, data models and declarative query languages\n",
    "- **LO2** - Define, query and manipulate a relational database\n",
    "- **LO3** - Demonstrate basic knowledge and understanding of descriptive and predictive data analysis methods, optimization and search, and knowledge representation.\n",
    "- **LO4** - Formulate and extract descriptive and predictive statistics from data\n",
    "- **LO5** - Analyse and interpret results from descriptive and predictive data analysis\n",
    "- **LO6** - Apply their knowledge to a given problem domain and articulate potential data analysis problems\n",
    "- **LO7** - Identify potential pitfalls, and social and ethical implications of data science\n",
    "- **LO8** - Explain key security concepts and the use of cryptographic techniques, digital signatures and PKI in security\n",
    "\n",
    "\n",
    "## Submission\n",
    "\n",
    "You need to submit the following items:\n",
    "- The notebook `Assignment_2_2023_uXXXXXXX.ipynb` (where uXXXXXXX is your uid) [Please note that if you have to pull from the upstream repo you will need to change the name back first and add your uid after the pull again]\n",
    "- A completed `statement-of-originality.md`, found in the root of the forked gitlab repo.\n",
    "\n",
    "Submissions are performed by pushing to your forked GitLab assignment repository. For a refresher on forking and cloning repositories, please refer to `Lab 1`. Issues with your Git repo (with the exception of a CECS/ANU wide Gitlab failure) will not be considered as grounds for an extension. Any violation of this will result in a `zero mark`.\n",
    "\n",
    "***** \n",
    "\n",
    "### Notes:\n",
    "\n",
    "* It is strongly advised to read the whole assignment before attempting it and have at least a cursory glance at the dataset in order to gauge the requirements and understand what you need to do as a bigger picture.\n",
    "* Backup your assignment to your Gitlab repo often. \n",
    "* Extra reading and research will be required. Make sure you include all references in your Statement of Originality. If this does not occur, at best marks will be deduced. Otherwise, academic misconduct processes will be followed.\n",
    "* For answers requiring free form written text, use the designated cells denoted by `YOUR WRITTEN ANSWER HERE` -- double click on the cell to write inside them. You can change these to Markdown cells where necessary (e.g. you may need to include some figures in your answer).\n",
    "* For all coding questions please write your code after the comment `YOUR CODE HERE`.\n",
    "* In the process of testing your code, you can insert more cells or use print statements for debugging, but when submitting your file remember to remove these cells and calls respectively. You are welcome to add additional cells to the final submission, provided they add value to the overall piece.\n",
    "* Your code answers will be marked on **correctness** and **readability** of your code, if your marker can't understand your code your marks may be deducted. \n",
    "* Your written answers will be marked on the **correctness**, **depth** and **clarity** of your written answers. If your marker cannot understand your answer, marks may be deducted\n",
    "* Before submitting, restart the kernel in Jupiter Lab and re-run all cells before submitting your code. This will ensure the namespace has not kept any old variables, as these won't come across in submission and your code will not run. Without this, you could lose a significant number of marks.\n",
    "\n",
    "*****"
   ]
  },
  {
   "cell_type": "markdown",
   "metadata": {},
   "source": [
    "**Several notes on printing and plotting**\n",
    "* When writing codes to print, your codes should <u>**include the relevant units and/or give relevant description**</u> of what you are printing. \n",
    "\n",
    "* A professional plot typically has the following characteristics:\n",
    "\n",
    "    * Clear and concise labeling: A professional plot should have clear and concise labeling of the x and y axes, as well as a clear title that conveys the purpose of the plot.\n",
    "\n",
    "    * Appropriate scales: The scales on the x and y axes should be appropriate for the data being presented. This means that the scales should be chosen so that the data is not too compressed or stretched out, and so that important features of the data are easily visible.\n",
    "\n",
    "    * Appropriate plot type: The plot type should be appropriate for the data being presented. For example, if the data is continuous, a line plot or a scatter plot may be appropriate. If the data is categorical, a bar chart or a pie chart may be more appropriate.\n",
    "\n",
    "    * Clarity: A professional plot should be visually clear and easy to interpret. This means that unnecessary elements should be removed, colors should be used judiciously, and the plot should be free of clutter.\n",
    "\n",
    "    * Consistency: A professional plot should be consistent in its formatting with other plots that may be presented in the same report. This means that font sizes, line widths, and colors should be consistent across all plots."
   ]
  },
  {
   "cell_type": "markdown",
   "metadata": {},
   "source": [
    "### Enter your Student ID below:"
   ]
  },
  {
   "cell_type": "raw",
   "metadata": {},
   "source": [
    "Student ID here"
   ]
  },
  {
   "cell_type": "markdown",
   "metadata": {},
   "source": [
    "## Data Science (40 marks)\n",
    "\n",
    "The World Development Indicators from https://data.worldbank.org/ is a compilation of relevant, high-quality, and internationally comparable statistics about global development and the fight against poverty. The database contains 1,400 time series indicators for 217 economies and more than 40 country groups, with data for many indicators going back more than 50 years. Herein, we adopt a part of the data for the following questions. Specifically, there are 20 years of data with 20 time series indicators (may also referred to as attributes), namely: \n",
    "\n",
    "  - GDP (current US$)\n",
    "  - GDP growth (annual %)\n",
    "  - GDP per capita (current LCU)\n",
    "  - Exports of goods and services (% of GDP)\n",
    "  - Agriculture, forestry, and fishing, value added (% of GDP)\n",
    "  - Central government debt, total (% of GDP)\n",
    "  - Trade (% of GDP)\n",
    "  - Tax revenue (% of GDP)\n",
    "  - Services, value added (% of GDP)\n",
    "  - CO2 emissions (kg per PPP \\$ of GDP)\n",
    "  - Compulsory education, duration (years)\n",
    "  - Government expenditure on education, total (% of government expenditure)\n",
    "  - Primary education, duration (years)\n",
    "  - Employment to population ratio, 15+, total (%) (modeled ILO estimate)\n",
    "  - Population ages 15-64, total\n",
    "  - Population ages 65 and above, total\n",
    "  - Population ages 65 and above (% of total population)\n",
    "  - Population, female (% of total population)\n",
    "  - Population, male (% of total population)\n",
    "  - Population, total"
   ]
  },
  {
   "cell_type": "code",
   "execution_count": null,
   "metadata": {},
   "outputs": [],
   "source": [
    "## Package Imports\n",
    "# Feel free to import other modules, provided they are a part of the standard conda distribution.\n",
    "import pandas as pd\n",
    "import numpy as np\n",
    "import sqlite3\n",
    "from sqlite3 import Error\n",
    "from sklearn.linear_model import LogisticRegression\n",
    "from sklearn.neighbors import KNeighborsClassifier      \n",
    "from sklearn.preprocessing import LabelEncoder          \n",
    "from sklearn.preprocessing import StandardScaler       \n",
    "from sklearn.model_selection import train_test_split    \n",
    "from sklearn.metrics import confusion_matrix\n",
    "from scipy import stats\n",
    "from itertools import combinations\n",
    "import matplotlib.pyplot as plt\n",
    "import seaborn as sns\n",
    "plt.style.use('seaborn')\n",
    "\n",
    "import warnings\n",
    "warnings.filterwarnings(\"ignore\")"
   ]
  },
  {
   "cell_type": "markdown",
   "metadata": {},
   "source": [
    "### 1.0) Import the Data (0 marks)\n",
    "- The data file is called `WorldPartialData.csv` in the data directory.\n",
    "- Processing the data accordingly and make them ready for the use in this question. For example, you may make the years and countries as rows and the 20 time series indicators as columns."
   ]
  },
  {
   "cell_type": "code",
   "execution_count": null,
   "metadata": {},
   "outputs": [],
   "source": [
    "# YOUR CODE HERE"
   ]
  },
  {
   "cell_type": "markdown",
   "metadata": {},
   "source": [
    "### 1.1) Classification using Decision trees for COMP2420 Students  (20 marks)\n",
    "\n",
    "Part 1: Train a Decision Tree model using this dataset to predict whether a given country has GDP per capita over 30,000 US Dollar. You may consider the following as a hints. (12 marks)\n",
    "\n",
    "- Do you need to import other packages?\n",
    "- How did you prepare the dataset for this task?\n",
    "- What are the hyperparameters of your model?\n",
    "- How did you decide on the hyperparameters for your model? \n",
    "- Visualise the decision tree that you trained (display the tree in the notebook.)\n",
    "\n",
    "Part 2: Based on Part 1, specify the depth and re-train a decision tree with depth 3 and another one with depth 4. Calculate the values of Gini impurity and Gini gain of the decision trees for both training and testing sets. Compare and discuss the results. (8 marks)"
   ]
  },
  {
   "cell_type": "markdown",
   "metadata": {},
   "source": [
    "### 1.1) Classification using Decision trees for COMP6420 Students  (20 marks)\n",
    "\n",
    "Part 1: Train a Decision Tree model using this dataset to predict whether a given country has GDP per capita over 30,000 US Dollar. You may consider the following as a hints. (10 marks)\n",
    "\n",
    "- Do you need to import other packages?\n",
    "- How did you prepare the dataset for this task?\n",
    "- What are the hyperparameters of your model?\n",
    "- How did you decide on the hyperparameters for your model? \n",
    "- Visualise the decision tree that you trained (display the tree in the notebook.)\n",
    "\n",
    "Part 2: Based on Part 1, specify the depth and re-train a decision tree with depth 3 and another one with depth 4. Calculate the values of entropy impurity and information gain of the decision trees for both training and testing sets. Compare and discuss the results. (5 marks)\n",
    "\n",
    "Part 3: Based on Part 1, specify the depth and re-train a decision tree with depth j, j=2,3,...,10. Calculate information gains of the decision trees for the testing sets. Plot a the curve (information gain versus j) in a figure. Discuss the results. (5 marks)"
   ]
  },
  {
   "cell_type": "code",
   "execution_count": null,
   "metadata": {},
   "outputs": [],
   "source": [
    "# YOUR CODE HERE"
   ]
  },
  {
   "cell_type": "raw",
   "metadata": {},
   "source": [
    "Written answer here"
   ]
  },
  {
   "cell_type": "markdown",
   "metadata": {},
   "source": [
    "### 1.2) Clustering for COMP2420 Students  (20 marks)\n",
    "\n",
    "Part 1: Based on the 20 years's ***GDP per capita in US Dollar***, design and implement a K-means clustering algorithm to cluster the countries. You may consider the following as a hints. (10 marks)\n",
    "\n",
    "- Do you need to import other packages?\n",
    "- How did you prepare the dataset for this task?\n",
    "- How many neighbors K, did you use for your model? \n",
    "- What are the values of the other hyperparameters of your model? \n",
    "- How did you decide on the hyper-parameters of your model? \n",
    "\n",
    "Part 2: Perform the Elbow method to find the optimal K. Show the plot of total of the within cluster sum of squares with respect to K. (5 marks)\n",
    "\n",
    "Part 3: Perform the Silhouette method to find the optimal K. Show the plot of Silhouette width with respect to K. (5 marks)\n",
    "\n",
    "\n",
    "### 1.2) Clustering for COMP6420 Students  (20 marks)\n",
    "\n",
    "Part 1: Create a new indicator which integrates GDP, education, and population in a certain way. Justify why you creat this new indicator in such a way. Based on this new indicator, design and implement a K-means clustering algorithm to cluster the countries. (10 marks)\n",
    "\n",
    "- Do you need to import other packages?\n",
    "- How did you prepare the dataset for this task?\n",
    "- How many neighbors K, did you use for your model? \n",
    "- What are the values of the other hyperparameters of your model? \n",
    "- How did you decide on the hyper-parameters of your model? \n",
    "\n",
    "Part 2: Perform the Elbow method to find the optimal K. Show the plot of total of the within cluster sum of squares with respect to K. (5 marks)\n",
    "\n",
    "Part 3: Perform the Silhouette method to find the optimal K. Show the plot of Silhouette width with respect to K. (5 marks)\n",
    "\n"
   ]
  },
  {
   "cell_type": "code",
   "execution_count": null,
   "metadata": {},
   "outputs": [],
   "source": [
    "# YOUR CODE HERE"
   ]
  },
  {
   "cell_type": "raw",
   "metadata": {},
   "source": [
    "Written answer here"
   ]
  },
  {
   "cell_type": "markdown",
   "metadata": {},
   "source": [
    "## Data Management\n",
    "This section of the assignment has been split into two sections, based on the datasets you will be interacting with: **Sakila** and **Rumble**.\n",
    "\n",
    "### Sakila\n",
    "To test your SQL muscles, we have provided a database (and the creation scripts) for a sample SQL database called Sakila made available by MySQL under a BSD licence. The Sakila sample database is a fictitious database designed to represent a DVD rental store. The tables of the database include film, film_category, actor, customer, rental, payment and inventory among others.. We have provided the Database diagram in Q3 for reference.\n",
    "\n",
    "Detailed information about the database can be found on the MySQL website: https://dev.mysql.com/doc/sakila/en/\n",
    "\n",
    "### Rumble\n",
    "One of the goals of this course was to introduce you to a multitude of different scenarios and datasets, and this assignment will be no exception.\n",
    "\n",
    "The WWE Royal Rumble (Further Reading: [Wikipedia](https://en.wikipedia.org/wiki/Royal_Rumble) or [wwe.com](https://www.wwe.com/shows/royalrumble)) is an annual [professional wrestling](https://en.wikipedia.org/wiki/Professional_wrestling) event put on by the [World Wrestling Entertainment (WWE)](https://en.wikipedia.org/wiki/WWE). At the event, the marque match is a 30-man (or now woman!) \"battle royale\". (If none of this makes sense, don't worry. We're about to explain it.)\n",
    "\n",
    "#### What is professional wrestling?\n",
    "Professional Wrestling is a form of entertainment, quite popular in the United States and Japan. \"Wrestlers\" will \"fight\" in \"matches\", which are aimed to combine theater and athleticism. Matches are predetermined, participants are all willing, and the main aim is to entertain the audience. ([Further Reading](https://entertainment.howstuffworks.com/pro-wrestling.htm)).\n",
    "\n",
    "#### So what is a \"Royal Rumble\"?\n",
    "The \"Royal Rumble\" is a type of match that has 3 rules:\n",
    "- Everyone gets allocated an entrance number (so, you start with 2 and new entries come in every so often).\n",
    "- Only way to get rid of someone is to throw them out of the ring.\n",
    "- Last person standing wins.\n",
    "\n",
    "#### So, what has this got to do with the assignment?\n",
    "Good question! All of the above is background information so you understand the dataset. In the interests of assessing your data handling, manipulation and SQL skills, you are going to be implementing an SQL database from the csv data files provided.\n"
   ]
  },
  {
   "cell_type": "code",
   "execution_count": null,
   "metadata": {},
   "outputs": [],
   "source": [
    "# Import additional modules here as required\n",
    "# It is unlikely that you would need any additional modules, however we had added space here just in case you feel \n",
    "#     extras are required. Note that some justification as to WHY you are using them should be provided.\n",
    "#\n",
    "# Note that only modules in the standard Anaconda distribution are allowed. If you need to install it manually, it is not an accepted package.\n",
    "#\n",
    "#"
   ]
  },
  {
   "cell_type": "markdown",
   "metadata": {},
   "source": [
    "*****\n",
    "## Serious SQL (25 marks)\n",
    "Consider the following scenario.\n",
    "\n",
    "> You are applying for a job as a database developer for an unnamed wrestling company. Part of the job description includes creating an automation system for running SQL queries. During the hiring process, the interviewers want to ensure you understand the SQL language. They have provided a set of questions to be answered by you, and your responses will later be reviewed by them. They are unwilling to give you access to their real database (which is mysteriously missing), so they have provided an SQLite3 database and asked you to interact with it using Python. \n",
    "\n",
    "\n",
    "Based on the above scenario, you have been asked to answer a number of questions to test your skills. You will be using the _Sakila_ database for this question. The database model is as follows:\n",
    "\n",
    "![sakila](./img/SQLite3_Sakila_Sample_Database_ERD.png)\n",
    "\n",
    "In the following questions, you will be asked to execute the SQL statements, and explain any reasoning as necessary. Answers to each sub-question should be obtained by a single SQL query **only**. \n",
    "\n",
    "**Notes**:\n",
    "  - There may be slight discrepancies between the above figure and the loaded database.\n",
    "  - Data can be formatted as raw printed output or a Pandas DataFrame."
   ]
  },
  {
   "cell_type": "code",
   "execution_count": null,
   "metadata": {},
   "outputs": [],
   "source": [
    "# THIS IS YOUR CONNECTION BLOCK, DO NOT MODIFY THIS. \n",
    "# OTHERWISE, YOU WILL NOT BE ABLE TO READ THE DATABASE\n",
    "def create_connection(db_file):\n",
    "    \"\"\" Connect to the specified SQLite database, if not exist, create a new one;\n",
    "    :db_file: location of db to connect to\n",
    "    :return: Connection object or None\n",
    "    \"\"\"\n",
    "    conn = None\n",
    "    try:\n",
    "        conn = sqlite3.connect(db_file)\n",
    "        print(\"Connection established!\")\n",
    "        \n",
    "    except Error as e:\n",
    "        print(\"Error Connecting to Database\")\n",
    "        raise(e)\n",
    "    return conn\n",
    "\n",
    "sakila_db = 'data/sqlite-sakila.db'\n",
    "conn = create_connection(sakila_db) \n",
    "cur = conn.cursor()\n",
    "# remember to close the connection when everything is done"
   ]
  },
  {
   "cell_type": "markdown",
   "metadata": {},
   "source": [
    "### 2.1: Names of the tables (2 marks)\n",
    "List the names of the tables found in this database."
   ]
  },
  {
   "cell_type": "code",
   "execution_count": null,
   "metadata": {},
   "outputs": [],
   "source": [
    "# YOUR CODE HERE"
   ]
  },
  {
   "cell_type": "raw",
   "metadata": {},
   "source": [
    "# YOUR WRITTEN ANSWER HERE\n"
   ]
  },
  {
   "cell_type": "markdown",
   "metadata": {},
   "source": [
    "### 2.2: Number of Rentals (2 marks)\n",
    "List the number of rentals in the database."
   ]
  },
  {
   "cell_type": "code",
   "execution_count": null,
   "metadata": {},
   "outputs": [],
   "source": [
    "# YOUR CODE HERE\n"
   ]
  },
  {
   "cell_type": "raw",
   "metadata": {},
   "source": [
    "# YOUR WRITTEN ANSWER HERE\n"
   ]
  },
  {
   "cell_type": "markdown",
   "metadata": {},
   "source": [
    "### 2.3: Inactive Customers (2 marks)\n",
    "There are fifteen customers who are not active. What are their first and last names?"
   ]
  },
  {
   "cell_type": "code",
   "execution_count": null,
   "metadata": {},
   "outputs": [],
   "source": [
    "# YOUR CODE HERE\n"
   ]
  },
  {
   "cell_type": "raw",
   "metadata": {},
   "source": [
    "# YOUR WRITTEN ANSWER HERE\n"
   ]
  },
  {
   "cell_type": "markdown",
   "metadata": {},
   "source": [
    "### 2.4: Cities by Country (4 marks)\n",
    "What are the counts of cities for each country in the database? Display the country names with the number of cities in each country."
   ]
  },
  {
   "cell_type": "code",
   "execution_count": null,
   "metadata": {},
   "outputs": [],
   "source": [
    "# YOUR CODE HERE"
   ]
  },
  {
   "cell_type": "raw",
   "metadata": {},
   "source": [
    "# YOUR WRITTEN ANSWER HERE\n"
   ]
  },
  {
   "cell_type": "markdown",
   "metadata": {},
   "source": [
    "### 2.5: Most rented (4 marks)\n",
    "Find the name of the top customer in the database as measured by the most money spent.\n"
   ]
  },
  {
   "cell_type": "code",
   "execution_count": null,
   "metadata": {},
   "outputs": [],
   "source": [
    "# YOUR CODE HERE\n"
   ]
  },
  {
   "cell_type": "raw",
   "metadata": {},
   "source": [
    "# YOUR WRITTEN ANSWER HERE\n"
   ]
  },
  {
   "cell_type": "markdown",
   "metadata": {},
   "source": [
    "### 2.6: Not returned rentals (2 marks)\n",
    "Find out how many rentals have not yet been returned."
   ]
  },
  {
   "cell_type": "code",
   "execution_count": null,
   "metadata": {},
   "outputs": [],
   "source": [
    "# YOUR CODE HERE\n"
   ]
  },
  {
   "cell_type": "raw",
   "metadata": {},
   "source": [
    "# YOUR WRITTEN ANSWER HERE\n"
   ]
  },
  {
   "cell_type": "markdown",
   "metadata": {},
   "source": [
    "### 2.7: Finding an Actor (4 marks)\n",
    "List category names for all films that featured an actor named _SUSAN DAVIS_. \n"
   ]
  },
  {
   "cell_type": "code",
   "execution_count": null,
   "metadata": {},
   "outputs": [],
   "source": [
    "# YOUR CODE HERE\n"
   ]
  },
  {
   "cell_type": "raw",
   "metadata": {},
   "source": [
    "# YOUR WRITTEN ANSWER HERE\n"
   ]
  },
  {
   "cell_type": "markdown",
   "metadata": {},
   "source": [
    "### 2.8: Top customers (5 marks)\n",
    "Find the customers who have rented more than 40 DVDs and the total amount paid by these customers.\n",
    "List the _first_name_, _last_name_ of thsese customers, along with the total number of DVDs rented and total amount paid by these customers. \n",
    "\n",
    "Rename the returned columns as First_Name, Last_Name, Orders and Total_Price respectively.\n"
   ]
  },
  {
   "cell_type": "code",
   "execution_count": null,
   "metadata": {},
   "outputs": [],
   "source": [
    "# YOUR CODE HERE\n"
   ]
  },
  {
   "cell_type": "raw",
   "metadata": {},
   "source": [
    "# YOUR WRITTEN ANSWER HERE\n"
   ]
  },
  {
   "cell_type": "markdown",
   "metadata": {
    "tags": []
   },
   "source": [
    "*****\n",
    "## Database Design (15 marks)\n",
    "<!-- You task is to design and implement a relational database for the data that we encountered in the Assignment 1 and in Question 1 of this assignment. For a refresher on the data and more information on the schema descriptions, go check the [about.md](./data/cvss/about.md) file. -->"
   ]
  },
  {
   "cell_type": "markdown",
   "metadata": {},
   "source": [
    "Consider the following scenario:\n",
    "> You've been successful in your application as a database developer for an unnamed wrestling company. Your managers wish to understand why it is so difficult to search through the results of past events, and to your surprise you find all the results as csv files on your computer. The previous database developer never bothered to make a database, and manually kept track of all the information of the events - making it very difficult for quick searches. You've been tasked with building a database for the company to use to fix this. Rather than starting from scratch, you're hoping you can use the event results to start filling in information. The first folder you find is called rumble.\n",
    "\n",
    "Your task is as follows:\n",
    "  - Draw a simple ER diagram showing the relationships specified below.\n",
    "  - Evaluate your design with respect to normalisation considerations.\n",
    "  - Implement your design in an SQLite database.\n",
    "\n",
    "The following is the requirements brief that was provided to you by your manager in an email:\n",
    ">Afternoon newbie,\n",
    ">\n",
    ">Our company runs a really special match called the Royal Rumble, but so far we haven't been keeping digital records of it very well. We've been running it for a while, so a lot of it is paper-based, but the previous database developer had stored it all in text files which you should have access to.\n",
    ">\n",
    ">So basically, the company is built on events, which we run once a year. An event would normally have a title, year, location, and attendance, although we may have to enter some of that information by ourselves later.\n",
    ">\n",
    ">Each event has a series of matches. Initially we only ran one match at each event, but lately we've been doing one for male and one for female. A match has a title, list of participants, how long each respective participant was in the match and how many people they eliminated, one winner, and how long the match went for. Some other organisations rate their matches, although I don't like that so don't worry about that aspect.\n",
    ">\n",
    ">Finally, the wrestlers, or participants, will all have a stage name, real name and gender. A lot of this information we will have to enter later, but at least we can enter in the information we have. You can just assume the records contain the stage name, not the real name.\n",
    ">\n",
    ">Don't worry about formatting issues; for example, if a wrestler's name is \"Mankind\" one event, then \"Cactus Jack\" another year, and \"Dude Love\" the year after, you can just pretend they're different wrestlers. People change their names all the time. Similarly, if the previous database designer entered a wrestler as \"D'Lo Brown\" in one place and \"DLo Brown\" in another place, you can also pretend that's two wrestlers. We'll fix that up manually later.\n",
    ">\n",
    ">Good luck!\n",
    "\n",
    "Note that the data is unlikely in an ideal format, so you will need to explore and understand the data yourself before getting started. See the Rumble about.md for additional details (in a real-world situation, even this information would not be provided). We will only be able to clarify any errors or unreasonably ambiguous details. Remember to state all assumptions beforehand."
   ]
  },
  {
   "cell_type": "markdown",
   "metadata": {},
   "source": [
    "### 3.1 Design a database to match the rumble dataset provided in the assignment (7 marks).\n",
    "Draw a simple ER diagram showing the relationship between the data set described in the email that you received from your manager (see above). \n",
    "\n",
    "__Note:__  Remember to state all assumptions beforehand. \n",
    "\n",
    "__Note 2:__ Diagrams can be drawn by hand and scanned/photographed, or you can use a tool such as [draw.io](https://draw.io). You should include the diagram in the `img` folder, and import it into a markdown box in your notebook. You can use the command `![er.png](./img/er.png)` where `er.png` is the name of your ER diagram file."
   ]
  },
  {
   "cell_type": "code",
   "execution_count": null,
   "metadata": {},
   "outputs": [],
   "source": [
    "# YOUR CODE HERE\n"
   ]
  },
  {
   "cell_type": "raw",
   "metadata": {},
   "source": [
    "# YOUR RESPONSE HERE\n"
   ]
  },
  {
   "cell_type": "markdown",
   "metadata": {},
   "source": [
    "### 3.2 Evaluate the design of your database with respect to the normalisation considerations (3 marks). \n"
   ]
  },
  {
   "cell_type": "raw",
   "metadata": {},
   "source": [
    "# YOUR RESPONSE HERE\n"
   ]
  },
  {
   "cell_type": "markdown",
   "metadata": {},
   "source": [
    "### 3.3 Implement the database in an SQLite database (5 marks).\n",
    "Create the database with the tables you designed above. (You are not required to fill in the tables with the data from the files.)\n"
   ]
  },
  {
   "cell_type": "code",
   "execution_count": null,
   "metadata": {},
   "outputs": [],
   "source": [
    "# YOUR CODE HERE\n"
   ]
  },
  {
   "cell_type": "raw",
   "metadata": {},
   "source": [
    "# YOUR RESPONSE HERE\n"
   ]
  },
  {
   "cell_type": "markdown",
   "metadata": {},
   "source": [
    "## Data Security (20 marks)\n",
    "\n",
    "Consider the following scenario.\n",
    "\n",
    "> You have just been put in charge information security at the Guilder National University (GNU) [Go antelopes!]. The GNU’s management board has asked you to attend their meeting and explain some issues around information security.\n",
    "> \n",
    "> A comprehensive audit GNU’s information systems has been conducted, and it found hundreds of vulnerabilities. The board is extremely agitated by this, and demand that they all be fixed immediately!\n",
    ">\n",
    "> You need to help them understand how this is not feasible or necessarily required to avoid catastrophic failure of University systems and business operations."
   ]
  },
  {
   "cell_type": "markdown",
   "metadata": {},
   "source": [
    "### 4.1) Threats and Vulnerabilities (4 marks)\n",
    "\n",
    "Explain the relationship between a threat and a vulnerability as it relates to risk management in information security."
   ]
  },
  {
   "cell_type": "raw",
   "metadata": {},
   "source": [
    "# YOUR RESPONSE HERE\n"
   ]
  },
  {
   "cell_type": "markdown",
   "metadata": {},
   "source": [
    "### 4.2) Next Steps (3 marks)\n",
    "Explain briefly what next steps you would take with the large list of vulnerabilities identified."
   ]
  },
  {
   "cell_type": "raw",
   "metadata": {},
   "source": [
    "# YOUR RESPONSE HERE"
   ]
  },
  {
   "cell_type": "markdown",
   "metadata": {},
   "source": [
    "### 4.3) Risk Management (3 marks)\n",
    "Explain to the board why risk management must be used in information security."
   ]
  },
  {
   "cell_type": "raw",
   "metadata": {},
   "source": [
    "# YOUR RESPONSE HERE\n"
   ]
  },
  {
   "cell_type": "markdown",
   "metadata": {},
   "source": [
    "Consider the following continuation of the scenario introduced above.\n",
    "\n",
    "> You have a discussion about ransomware strategy. The board is considering its position. One board member comments “If we get ransomed, we should just pay the ransom, then we get our data back. It will be all over and we can get on with business.”"
   ]
  },
  {
   "cell_type": "markdown",
   "metadata": {},
   "source": [
    "### 4.4) Non-depleting Resource (4 marks)\n",
    "Explain to the board what is meant by ‘information is a non-depleting resource’."
   ]
  },
  {
   "cell_type": "raw",
   "metadata": {},
   "source": [
    "# YOUR RESPONSE HERE\n"
   ]
  },
  {
   "cell_type": "markdown",
   "metadata": {},
   "source": [
    "### 4.5) Managing Up (2 marks)\n",
    "What are your thoughts on the board member's comment in light of this explanation?"
   ]
  },
  {
   "cell_type": "raw",
   "metadata": {},
   "source": [
    "# YOUR RESPONSE HERE\n"
   ]
  },
  {
   "cell_type": "markdown",
   "metadata": {},
   "source": [
    "### 4.6 Defense-In-Depth (4 marks)\n",
    "What is 'defence-in-depth'? Why should it be a core information security strategy for GNU?\n"
   ]
  },
  {
   "cell_type": "raw",
   "metadata": {},
   "source": [
    "# YOUR RESPONSE HERE"
   ]
  }
 ],
 "metadata": {
  "kernelspec": {
   "display_name": "Python 3",
   "language": "python",
   "name": "python3"
  },
  "language_info": {
   "codemirror_mode": {
    "name": "ipython",
    "version": 3
   },
   "file_extension": ".py",
   "mimetype": "text/x-python",
   "name": "python",
   "nbconvert_exporter": "python",
   "pygments_lexer": "ipython3",
   "version": "3.8.8"
  }
 },
 "nbformat": 4,
 "nbformat_minor": 4
}
